{
  "nbformat": 4,
  "nbformat_minor": 0,
  "metadata": {
    "colab": {
      "provenance": [],
      "collapsed_sections": [],
      "authorship_tag": "ABX9TyM2GanfIVyIVSrlVs2Crfv2",
      "include_colab_link": true
    },
    "kernelspec": {
      "name": "python3",
      "display_name": "Python 3"
    },
    "language_info": {
      "name": "python"
    }
  },
  "cells": [
    {
      "cell_type": "markdown",
      "metadata": {
        "id": "view-in-github",
        "colab_type": "text"
      },
      "source": [
        "<a href=\"https://colab.research.google.com/github/Eui-HO-LEE/DAP_/blob/main/lecture1.ipynb\" target=\"_parent\"><img src=\"https://colab.research.google.com/assets/colab-badge.svg\" alt=\"Open In Colab\"/></a>"
      ]
    },
    {
      "cell_type": "code",
      "execution_count": 3,
      "metadata": {
        "colab": {
          "base_uri": "https://localhost:8080/"
        },
        "id": "RByhaCuz23zd",
        "outputId": "deaa6e60-a764-4c18-ba80-06196587c227"
      },
      "outputs": [
        {
          "output_type": "stream",
          "name": "stdout",
          "text": [
            "numpy version: 1.21.6\n",
            "pandas version: 1.3.5\n",
            "scipy version: 1.7.3\n",
            "matplotlib version: 3.2.2\n",
            "seaborn version: 0.11.2\n",
            "sklearn version: 1.0.2\n"
          ]
        }
      ],
      "source": [
        "import numpy as np\n",
        "import pandas as pd\n",
        "import scipy\n",
        "import matplotlib\n",
        "import seaborn as sns\n",
        "import sklearn\n",
        "\n",
        "print(f'numpy version: {np.__version__}')\n",
        "print(f'pandas version: {pd.__version__}')\n",
        "print(f'scipy version: {scipy.__version__}')\n",
        "print(f'matplotlib version: {matplotlib.__version__}')\n",
        "print(f'seaborn version: {sns.__version__}')\n",
        "print(f'sklearn version: {sklearn.__version__}')"
      ]
    }
  ]
}